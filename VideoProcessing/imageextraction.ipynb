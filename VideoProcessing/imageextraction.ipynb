{
 "metadata": {
  "language_info": {
   "codemirror_mode": {
    "name": "ipython",
    "version": 3
   },
   "file_extension": ".py",
   "mimetype": "text/x-python",
   "name": "python",
   "nbconvert_exporter": "python",
   "pygments_lexer": "ipython3",
   "version": "3.7.4-final"
  },
  "orig_nbformat": 2,
  "kernelspec": {
   "name": "python3",
   "display_name": "Python 3",
   "language": "python"
  }
 },
 "nbformat": 4,
 "nbformat_minor": 2,
 "cells": [
  {
   "cell_type": "code",
   "execution_count": 99,
   "metadata": {},
   "outputs": [
    {
     "output_type": "stream",
     "name": "stdout",
     "text": [
      "Requirement already satisfied: pytube in c:\\users\\bob\\anaconda3\\lib\\site-packages (10.0.0)\n",
      "Requirement already satisfied: typing-extensions in c:\\users\\bob\\anaconda3\\lib\\site-packages (from pytube) (3.7.4.3)\n",
      "Requirement already satisfied: moviepy in c:\\users\\bob\\anaconda3\\lib\\site-packages (1.0.3)\n",
      "Requirement already satisfied: requests<3.0,>=2.8.1 in c:\\users\\bob\\anaconda3\\lib\\site-packages (from moviepy) (2.22.0)\n",
      "Requirement already satisfied: imageio-ffmpeg>=0.2.0; python_version >= \"3.4\" in c:\\users\\bob\\anaconda3\\lib\\site-packages (from moviepy) (0.4.3)\n",
      "Requirement already satisfied: tqdm<5.0,>=4.11.2 in c:\\users\\bob\\anaconda3\\lib\\site-packages (from moviepy) (4.36.1)\n",
      "Requirement already satisfied: numpy>=1.17.3; python_version != \"2.7\" in c:\\users\\bob\\anaconda3\\lib\\site-packages (from moviepy) (1.20.1)\n",
      "Requirement already satisfied: proglog<=1.0.0 in c:\\users\\bob\\anaconda3\\lib\\site-packages (from moviepy) (0.1.9)\n",
      "Requirement already satisfied: decorator<5.0,>=4.0.2 in c:\\users\\bob\\anaconda3\\lib\\site-packages (from moviepy) (4.4.0)\n",
      "Requirement already satisfied: imageio<3.0,>=2.5; python_version >= \"3.4\" in c:\\users\\bob\\anaconda3\\lib\\site-packages (from moviepy) (2.6.0)\n",
      "Requirement already satisfied: idna<2.9,>=2.5 in c:\\users\\bob\\anaconda3\\lib\\site-packages (from requests<3.0,>=2.8.1->moviepy) (2.8)\n",
      "Requirement already satisfied: chardet<3.1.0,>=3.0.2 in c:\\users\\bob\\anaconda3\\lib\\site-packages (from requests<3.0,>=2.8.1->moviepy) (3.0.4)\n",
      "Requirement already satisfied: certifi>=2017.4.17 in c:\\users\\bob\\anaconda3\\lib\\site-packages (from requests<3.0,>=2.8.1->moviepy) (2019.9.11)\n",
      "Requirement already satisfied: urllib3!=1.25.0,!=1.25.1,<1.26,>=1.21.1 in c:\\users\\bob\\anaconda3\\lib\\site-packages (from requests<3.0,>=2.8.1->moviepy) (1.24.2)\n",
      "Requirement already satisfied: pillow in c:\\users\\bob\\anaconda3\\lib\\site-packages (from imageio<3.0,>=2.5; python_version >= \"3.4\"->moviepy) (6.2.0)\n"
     ]
    }
   ],
   "source": [
    "from cv2 import VideoCapture, imwrite, resize, CAP_PROP_POS_MSEC, CAP_PROP_FRAME_COUNT, CAP_PROP_FRAME_HEIGHT, CAP_PROP_FRAME_WIDTH, CAP_PROP_FPS, VideoWriter, VideoWriter_fourcc, imread, cvtColor\n",
    "import os\n",
    "from os import path\n",
    "import time\n",
    "from pathlib import Path\n",
    "import queue\n",
    "import numpy as np\n",
    "\n",
    "!pip install pytube\n",
    "!pip install moviepy\n",
    "from moviepy.editor import VideoFileClip\n",
    "from pytube import YouTube, Stream"
   ]
  },
  {
   "cell_type": "code",
   "execution_count": 100,
   "metadata": {},
   "outputs": [],
   "source": [
    "\"\"\"\n",
    "Retrieves video from youtube in smallest mp4 format available and saves it to videos folder in working directory\n",
    "\"\"\"\n",
    "def get_video_youtube(url):\n",
    "\n",
    "    current_path = Path.cwd()\n",
    "\n",
    "    \"\"\"\n",
    "    ensures video folder exists in project root directory\n",
    "    \"\"\"\n",
    "    save_path = current_path / \"videos\"\n",
    "\n",
    "    if not Path.exists(save_path):\n",
    "        Path.mkdir(save_path)\n",
    "\n",
    "    \"\"\"\n",
    "    Gets youtube object, identifies the smallest stream and downloads it\n",
    "    \"\"\"\n",
    "    youtube_object = YouTube(url)\n",
    "    video_path = youtube_object.streams.filter(progressive=True, file_extension='mp4').get_lowest_resolution().download(save_path.__str__())\n",
    "\n",
    "    return video_path"
   ]
  },
  {
   "cell_type": "code",
   "execution_count": 101,
   "metadata": {},
   "outputs": [],
   "source": [
    "path = Path(get_video_youtube(\"https://www.youtube.com/watch?v=PSf09R3D7Lo&ab_channel=Panasonicsecurity\"))"
   ]
  },
  {
   "cell_type": "code",
   "execution_count": 102,
   "metadata": {},
   "outputs": [],
   "source": [
    "\"\"\"\n",
    "Checks that the path goes to a file\n",
    "\"\"\"\n",
    "def check_file_path(video_path):\n",
    "    if video_path == None:\n",
    "        print(\"No video file provided\")\n",
    "        return False    \n",
    "\n",
    "    if not Path.exists(video_path):\n",
    "        print(\"Invalid Path\")\n",
    "        return False\n",
    "\n",
    "    if not Path.is_file(video_path):\n",
    "        print(\"Input must be file\")\n",
    "        return False\n",
    "\n",
    "    return True"
   ]
  },
  {
   "cell_type": "code",
   "execution_count": 103,
   "metadata": {},
   "outputs": [],
   "source": [
    "\"\"\"\n",
    "Get and reutrns the details for the video pointed to by the file path\n",
    "\"\"\"\n",
    "def video_details(video_path):\n",
    "    check_file_path(video_path)\n",
    "\n",
    "    video = VideoCapture(video_path)\n",
    "\n",
    "    if not video.isOpened():\n",
    "        print(\"Unable to open file. Please ensure input video is either .AVI or .MKV\")\n",
    "        return False\n",
    "\n",
    "    total_video_frames = video.get(CAP_PROP_FRAME_COUNT)\n",
    "    frame_height = video.get(CAP_PROP_FRAME_HEIGHT)\n",
    "    frame_width = video.get(CAP_PROP_FRAME_WIDTH)\n",
    "    video_fps = video.get(CAP_PROP_FPS)\n",
    "    video_length = total_video_frames / video_fps\n",
    "    print(\"Total Frames in Video:\",total_video_frames)\n",
    "    print(\"Frame Height:\",frame_height)\n",
    "    print(\"Frame Width:\",frame_width)\n",
    "    print(\"Frames per Second:\",video_fps)  \n",
    "    print(\"Video Length\",video_length)\n",
    "\n",
    "    video.release()\n",
    "\n",
    "    return total_video_frames, video_fps, frame_height, frame_width, video_length"
   ]
  },
  {
   "cell_type": "code",
   "execution_count": 104,
   "metadata": {},
   "outputs": [],
   "source": [
    "def image_extraction_to_queue(video_path, frame_queue, image_per_second=10, target_height=256, target_width=512, frame_count=0, save_images = \"off\"):\n",
    "    \"\"\"\n",
    "    Checks validity of provided video file path\n",
    "    \"\"\"\n",
    "    # if(check_file_path(video_path) == False):\n",
    "    #     return False\n",
    "\n",
    "    \"\"\"\n",
    "    loads video\n",
    "    \"\"\"\n",
    "    # video = VideoCapture(video_path)\n",
    "\n",
    "    # if not video.isOpened():\n",
    "    #     print(\"Unable to open file. Please ensure input video is either .AVI or .MKV\")\n",
    "    #     return False\n",
    "\n",
    "    start = time.time()\n",
    "\n",
    "    clip = VideoFileClip(video_path)\n",
    "    video_length = clip.duration\n",
    "    print(\"Video Length According to MOVIEPY: \", clip.duration)\n",
    "\n",
    "    \"\"\"\n",
    "    iterates through loaded video and extracts frames\n",
    "    at intervals dictated by save_interal \n",
    "    \"\"\"\n",
    "    if save_images == \"on\":\n",
    "        video_path = Path(video_path)\n",
    "\n",
    "        video_name = video_path.stem\n",
    "\n",
    "        \"\"\"\n",
    "        gets working directory\n",
    "        \"\"\"\n",
    "        current_path = Path.cwd()\n",
    "\n",
    "        \"\"\"\n",
    "        ensures image folder exists in project root directory\n",
    "        \"\"\"\n",
    "\n",
    "        image_path = current_path / \"images\"\n",
    "\n",
    "        if not Path.is_dir(image_path):\n",
    "            Path.mkdir(image_path)\n",
    "\n",
    "        image_path = image_path / video_name\n",
    "\n",
    "        if not Path.is_dir(image_path):\n",
    "            Path.mkdir(image_path)\n",
    "\n",
    "    actual_frames = 0\n",
    "\n",
    "    scale = (target_width, target_height)\n",
    "    # image_transforms = transforms.Compose(\n",
    "    #     [transforms.Resize((target_height, target_width)), transforms.ToTensor()])\n",
    "    last_frame_time = -10000000\n",
    "\n",
    "    time_inc = 1 / image_per_second\n",
    "\n",
    "    for vid_time in np.arange(0, video_length, time_inc):\n",
    "\n",
    "        frame = clip.get_frame(vid_time)\n",
    "        frame = resize(frame, scale)\n",
    "\n",
    "        if frame.ndim != 3:\n",
    "            frame = np.expand_dims(frame, axis = 2)\n",
    "            frame = np.repeat(frame, 3, axis = 2)\n",
    "            print(\"Grayscale changed back to\", frame.shape)\n",
    "        img = cv2.cvtColor(frame, cv2.COLOR_BGR2RGB)\n",
    "        # t_image = image_transforms(Image.fromarray(img))\n",
    "        # frame_queue.put((frame_count, frame, t_image))\n",
    "        if save_images == \"on\":\n",
    "            image_name = image_path / (video_name.__str__() + \"_frame_{:08d}.jpg\".format(frame_count))\n",
    "            imwrite(image_name.__str__(), frame)\n",
    "        frame_count += 1\n",
    "\n",
    "    # video.release()\n",
    "    end = time.time()\n",
    "\n",
    "    print(\"Extraction took: \", end - start, \"Seconds     Frame Count:\", frame_count, \"Total Frames in Video\", actual_frames)\n",
    "\n",
    "    return frame_count"
   ]
  },
  {
   "cell_type": "code",
   "execution_count": 105,
   "metadata": {},
   "outputs": [
    {
     "output_type": "stream",
     "name": "stdout",
     "text": [
      "Video Length According to MOVIEPY:  304.33\n",
      "Extraction took:  20.749000072479248 Seconds     Frame Count: 3044 Total Frames in Video 0\n"
     ]
    },
    {
     "output_type": "execute_result",
     "data": {
      "text/plain": [
       "3044"
      ]
     },
     "metadata": {},
     "execution_count": 105
    }
   ],
   "source": [
    "    # video_path = r\"C:\\Users\\Bob\\Videos\\Project_1.avi\"\n",
    "\n",
    "    size = (256,512)\n",
    "    fps = 10\n",
    "\n",
    "    frame_queue = queue.Queue()\n",
    "\n",
    "    # video_path = get_video_youtube(\"https://www.youtube.com/watch?v=MNn9qKG2UFI&ab_channel=KarolMajek\")\n",
    "    # print(video_path)\n",
    "    # image_path = image_extraction(\"int-camera-125--7.mp4\", fps, size[0], size[1])\n",
    "    image_extraction_to_queue(\"hwy-camera-944--9.mp4\", frame_queue, image_per_second=10, target_height=256, target_width=512, frame_count=0, save_images = \"on\")\n",
    "    "
   ]
  },
  {
   "cell_type": "code",
   "execution_count": 108,
   "metadata": {},
   "outputs": [],
   "source": [
    "def image_extraction_to_queue2(video_path, frame_queue, image_per_second=10, target_height=256, target_width=512, frame_count=0, save_images = \"off\"):\n",
    "    \n",
    "    start = time.time()\n",
    "\n",
    "    \"\"\"\n",
    "    Checks validity of provided video file path\n",
    "    \"\"\"\n",
    "    # if(check_file_path(video_path) == False):\n",
    "    #     return False\n",
    "\n",
    "    \"\"\"\n",
    "    loads video\n",
    "    \"\"\"\n",
    "    video = VideoCapture(video_path)\n",
    "\n",
    "    if not video.isOpened():\n",
    "        print(\"Unable to open file. Please ensure input video is either .AVI or .MKV\")\n",
    "        return False\n",
    "\n",
    "    clip = VideoFileClip(video_path)\n",
    "    print(\"Video Length According to MOVIEPY: \", clip.duration)\n",
    "\n",
    "    \"\"\"\n",
    "    iterates through loaded video and extracts frames\n",
    "    at intervals dictated by save_interal \n",
    "    \"\"\"\n",
    "    if save_images == \"on\":\n",
    "        video_path = Path(video_path)\n",
    "\n",
    "        video_name = video_path.stem\n",
    "\n",
    "        \"\"\"\n",
    "        gets working directory\n",
    "        \"\"\"\n",
    "        current_path = Path.cwd()\n",
    "\n",
    "        \"\"\"\n",
    "        ensures image folder exists in project root directory\n",
    "        \"\"\"\n",
    "\n",
    "        image_path = current_path / \"images\"\n",
    "\n",
    "        if not Path.is_dir(image_path):\n",
    "            Path.mkdir(image_path)\n",
    "\n",
    "        image_path = image_path / video_name\n",
    "\n",
    "        if not Path.is_dir(image_path):\n",
    "            Path.mkdir(image_path)\n",
    "\n",
    "    actual_frames = 0\n",
    "\n",
    "    scale = (target_width, target_height)\n",
    "    # image_transforms = transforms.Compose(\n",
    "    #     [transforms.Resize((target_height, target_width)), transforms.ToTensor()])\n",
    "    last_frame_time = -10000000\n",
    "    while True:\n",
    "\n",
    "        valid, frame = video.read()\n",
    "\n",
    "        if not valid:\n",
    "            # print(\"END at Frame Count\", frame_count, \" With save Interval of\", save_interval)\n",
    "            break\n",
    "\n",
    "        if(video.get(CAP_PROP_POS_MSEC) - last_frame_time >= 1000 / image_per_second):\n",
    "            last_frame_time = video.get(CAP_PROP_POS_MSEC)\n",
    "            frame = resize(frame, scale)\n",
    "            # frame = cv2.cvtColor(frame, cv2.COLOR_BGR2GRAY)\n",
    "            \n",
    "            # print(\"Image Changed to\", frame.shape)\n",
    "            if frame.ndim != 3:\n",
    "                frame = np.expand_dims(frame, axis = 2)\n",
    "                frame = np.repeat(frame, 3, axis = 2)\n",
    "                print(\"Grayscale changed back to\", frame.shape)\n",
    "            # img = cvtColor(frame, cv2.COLOR_BGR2RGB)\n",
    "            # t_image = image_transforms(Image.fromarray(img))\n",
    "            # frame_queue.put((frame_count, frame, t_image))\n",
    "            if save_images == \"on\":\n",
    "                image_name = image_path / (video_name.__str__() + \"_frame_{:08d}.jpg\".format(frame_count))\n",
    "                imwrite(image_name.__str__(), frame)\n",
    "            frame_count += 1\n",
    "\n",
    "        actual_frames += 1\n",
    "\n",
    "    video.release()\n",
    "    end = time.time()\n",
    "\n",
    "    print(\"Extraction took: \", end - start, \"Seconds     Frame Count:\", frame_count, \"Total Frames in Video\", actual_frames)\n",
    "\n",
    "    return frame_count"
   ]
  },
  {
   "cell_type": "code",
   "execution_count": 109,
   "metadata": {},
   "outputs": [
    {
     "output_type": "stream",
     "name": "stdout",
     "text": [
      "Video Length According to MOVIEPY:  304.33\n",
      "Extraction took:  16.341997385025024 Seconds     Frame Count: 2757 Total Frames in Video 9123\n"
     ]
    },
    {
     "output_type": "execute_result",
     "data": {
      "text/plain": [
       "2757"
      ]
     },
     "metadata": {},
     "execution_count": 109
    }
   ],
   "source": [
    "image_extraction_to_queue2(\"hwy-camera-944--9.mp4\", frame_queue, image_per_second=10, target_height=256, target_width=512, frame_count=0, save_images = \"on\")"
   ]
  },
  {
   "cell_type": "code",
   "execution_count": 59,
   "metadata": {},
   "outputs": [
    {
     "output_type": "error",
     "ename": "NameError",
     "evalue": "name 'image_path' is not defined",
     "traceback": [
      "\u001b[1;31m---------------------------------------------------------------------------\u001b[0m",
      "\u001b[1;31mNameError\u001b[0m                                 Traceback (most recent call last)",
      "\u001b[1;32m<ipython-input-59-2de1a4abb864>\u001b[0m in \u001b[0;36m<module>\u001b[1;34m\u001b[0m\n\u001b[1;32m----> 1\u001b[1;33m \u001b[0mvideo_name\u001b[0m \u001b[1;33m=\u001b[0m \u001b[0mimage_path\u001b[0m\u001b[1;33m.\u001b[0m\u001b[0msplit\u001b[0m\u001b[1;33m(\u001b[0m\u001b[1;34m\"/\"\u001b[0m\u001b[1;33m)\u001b[0m\u001b[1;33m\u001b[0m\u001b[1;33m\u001b[0m\u001b[0m\n\u001b[0m",
      "\u001b[1;31mNameError\u001b[0m: name 'image_path' is not defined"
     ]
    }
   ],
   "source": [
    "video_name = image_path.split(\"/\")"
   ]
  },
  {
   "cell_type": "code",
   "execution_count": null,
   "metadata": {},
   "outputs": [],
   "source": [
    "def make_video(image_path, size, fps):\n",
    "\n",
    "    current_path = os.getcwd()\n",
    "\n",
    "    images = []\n",
    "    names = []\n",
    "\n",
    "    for image in os.listdir(image_path):\n",
    "        names.append(image)\n",
    "        img = imread(os.path.join(image_path, image))\n",
    "        images.append(img)\n",
    "\n",
    "    out = [x for _, x in sorted(zip(names,images))]\n",
    "\n",
    "    if not path.isdir(current_path + r\"\\generatedvideos\"):\n",
    "        os.mkdir(current_path + r\"\\generatedvideos\")\n",
    "\n",
    "    name = image_path.split(\"\\\\\")\n",
    "    print(name[len(name)-1])\n",
    "\n",
    "    video_path = current_path + r\"\\generatedvideos\\\\\" + name[len(name)-1] + r\".avi\"\n",
    "\n",
    "    codex = VideoWriter_fourcc(*'MP4V')\n",
    "    writer = VideoWriter(video_path, codex, fps, (size[1],size[0]))\n",
    "\n",
    "    for image in out:\n",
    "        # cv2_imshow(image)\n",
    "        writer.write(image)\n",
    "    writer.release()"
   ]
  },
  {
   "cell_type": "code",
   "execution_count": null,
   "metadata": {},
   "outputs": [],
   "source": [
    "make_video(image_path, size, fps)"
   ]
  },
  {
   "cell_type": "code",
   "execution_count": null,
   "metadata": {},
   "outputs": [],
   "source": []
  }
 ]
}