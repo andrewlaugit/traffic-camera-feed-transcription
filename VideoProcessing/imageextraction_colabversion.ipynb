{
  "nbformat": 4,
  "nbformat_minor": 0,
  "metadata": {
    "orig_nbformat": 2,
    "colab": {
      "name": "imageextraction.ipynb",
      "provenance": []
    },
    "kernelspec": {
      "name": "python3",
      "display_name": "Python 3"
    }
  },
  "cells": [
    {
      "cell_type": "code",
      "metadata": {
        "colab": {
          "base_uri": "https://localhost:8080/"
        },
        "id": "X4qMrfpQT4Ob",
        "outputId": "6d456bae-09b8-4bc9-d7ac-2d9030d45935"
      },
      "source": [
        "from cv2 import VideoCapture, imwrite, resize, CAP_PROP_FRAME_COUNT, CAP_PROP_FRAME_HEIGHT, CAP_PROP_FRAME_WIDTH, CAP_PROP_FPS, VideoWriter, VideoWriter_fourcc, imread\n",
        "import os\n",
        "from os import path\n",
        "import time\n",
        "from google.colab.patches import cv2_imshow\n",
        "\n",
        "!pip install pytube\n",
        "\n",
        "from pytube import YouTube, Stream"
      ],
      "execution_count": 1,
      "outputs": [
        {
          "output_type": "stream",
          "text": [
            "Collecting pytube\n",
            "\u001b[?25l  Downloading https://files.pythonhosted.org/packages/63/2d/5b64e61f34d193b718aa39d322eddd7a17a3cc07f56a4b27b107ea234c02/pytube-10.0.0-py3-none-any.whl (40kB)\n",
            "\r\u001b[K     |████████                        | 10kB 16.9MB/s eta 0:00:01\r\u001b[K     |████████████████                | 20kB 23.2MB/s eta 0:00:01\r\u001b[K     |████████████████████████        | 30kB 16.3MB/s eta 0:00:01\r\u001b[K     |████████████████████████████████| 40kB 3.8MB/s \n",
            "\u001b[?25hRequirement already satisfied: typing-extensions in /usr/local/lib/python3.6/dist-packages (from pytube) (3.7.4.3)\n",
            "Installing collected packages: pytube\n",
            "Successfully installed pytube-10.0.0\n"
          ],
          "name": "stdout"
        }
      ]
    },
    {
      "cell_type": "code",
      "metadata": {
        "id": "m4PdKBXFT4Oc"
      },
      "source": [
        "\"\"\"\n",
        "Retrieves video from youtube in smallest mp4 format available and saves it to videos folder in working directory\n",
        "\"\"\"\n",
        "def get_video_youtube(url):\n",
        "\n",
        "    current_path = os.getcwd()\n",
        "\n",
        "    \"\"\"\n",
        "    ensures video folder exists in project root directory\n",
        "    \"\"\"\n",
        "    if not path.isdir(current_path + r\"/videos\"):\n",
        "        os.mkdir(current_path + r\"/videos\")\n",
        "\n",
        "    save_path = current_path + r\"/videos\"\n",
        "\n",
        "    \"\"\"\n",
        "    Gets youtube object, identifies the smallest stream and downloads it\n",
        "    \"\"\"\n",
        "    youtube_object = YouTube(url)\n",
        "    video_path = youtube_object.streams.filter(progressive=True, file_extension='mp4').get_lowest_resolution().download(save_path)\n",
        "\n",
        "    return video_path"
      ],
      "execution_count": 2,
      "outputs": []
    },
    {
      "cell_type": "code",
      "metadata": {
        "id": "jdfnk9lPT4Oc"
      },
      "source": [
        "\"\"\"\n",
        "Checks that the path goes to a file\n",
        "\"\"\"\n",
        "def check_file_path(video_path):\n",
        "    if video_path == None:\n",
        "        print(\"No video file provided\")\n",
        "        return False    \n",
        "\n",
        "    if not path.exists(video_path):\n",
        "        print(\"Invalid Path\")\n",
        "        return False\n",
        "\n",
        "    if not path.isfile(video_path):\n",
        "        print(\"Input must be file\")\n",
        "        return False\n",
        "\n",
        "    return True"
      ],
      "execution_count": 3,
      "outputs": []
    },
    {
      "cell_type": "code",
      "metadata": {
        "id": "PYEfOF9OT4Oc"
      },
      "source": [
        "\"\"\"\n",
        "Get and reutrns the details for the video pointed to by the file path\n",
        "\"\"\"\n",
        "def video_details(video_path):\n",
        "    check_file_path(video_path)\n",
        "\n",
        "    video = VideoCapture(video_path)\n",
        "\n",
        "    if not video.isOpened():\n",
        "        print(\"Unable to open file. Please ensure input video is either .AVI or .MKV\")\n",
        "        return False\n",
        "\n",
        "    total_video_frames = video.get(CAP_PROP_FRAME_COUNT)\n",
        "    frame_height = video.get(CAP_PROP_FRAME_HEIGHT)\n",
        "    frame_width = video.get(CAP_PROP_FRAME_WIDTH)\n",
        "    video_fps = video.get(CAP_PROP_FPS)\n",
        "    video_length = total_video_frames / video_fps\n",
        "    print(total_video_frames)\n",
        "    print(frame_height)\n",
        "    print(frame_width)\n",
        "    print(video_fps)  \n",
        "    print(video_length)\n",
        "\n",
        "    video.release()\n",
        "\n",
        "    return total_video_frames, video_fps, frame_height, frame_width, video_length"
      ],
      "execution_count": 4,
      "outputs": []
    },
    {
      "cell_type": "code",
      "metadata": {
        "id": "uvcy8stZT4Oc"
      },
      "source": [
        "\"\"\"\n",
        "Extracts frames from the video at a selected frame rate\n",
        "\"\"\"\n",
        "def image_extraction(video_path = None, image_per_second = 10, target_height = 128, target_width = 256):\n",
        "    \"\"\"\n",
        "    Checks validity of provided video file path\n",
        "    \"\"\"\n",
        "    if(check_file_path(video_path) == False):\n",
        "        return False\n",
        "\n",
        "    total_video_frames, video_fps, _, _, _ = video_details(video_path)\n",
        "\n",
        "    \"\"\"\n",
        "    loads video\n",
        "    \"\"\"\n",
        "    video = VideoCapture(video_path)\n",
        "\n",
        "    if not video.isOpened():\n",
        "        print(\"Unable to open file. Please ensure input video is either .AVI or .MKV\")\n",
        "        return False\n",
        "\n",
        "    _, video_name = os.path.split(video_path)\n",
        "\n",
        "    video_name = video_name.split(\".\")\n",
        "\n",
        "    \"\"\"\n",
        "    gets working directory\n",
        "    \"\"\"\n",
        "    current_path = os.getcwd()\n",
        "\n",
        "    \"\"\"\n",
        "    ensures image folder exists in project root directory\n",
        "    \"\"\"\n",
        "    if not path.isdir(current_path + r\"/images\"):\n",
        "        os.mkdir(current_path + r\"/images\")\n",
        "\n",
        "    image_path = current_path + r\"/images/\" + video_name[0]\n",
        "\n",
        "    if not path.isdir(image_path):\n",
        "        os.mkdir(image_path)    \n",
        "\n",
        "    print(image_path)\n",
        "\n",
        "\n",
        "    begin = time.time()\n",
        "\n",
        "    \"\"\"\n",
        "    iterates through loaded video and extracts frames\n",
        "    at intervals dictated by save_interal \n",
        "    \"\"\"\n",
        "    frame_count = 0\n",
        "    scale = (target_width, target_height)\n",
        "    save_interval = int(video_fps / image_per_second)\n",
        "    while(frame_count < total_video_frames):\n",
        "        \n",
        "        valid, image = video.read()\n",
        "\n",
        "        if not valid:\n",
        "            print(\"END\")\n",
        "            break\n",
        "\n",
        "        if(valid and frame_count % save_interval == 0):\n",
        "            image = resize(image, scale)\n",
        "            image_name = image_path + \"/\" + video_name[0] + \"_frame_{:08d}.jpg\".format(frame_count)\n",
        "            imwrite(image_name, image)\n",
        "\n",
        "        frame_count += 1\n",
        "\n",
        "    end = time.time()\n",
        "\n",
        "    total_time = end - begin\n",
        "\n",
        "    video.release()\n",
        "\n",
        "    print(total_time)\n",
        "    return image_path"
      ],
      "execution_count": 5,
      "outputs": []
    },
    {
      "cell_type": "code",
      "metadata": {
        "colab": {
          "base_uri": "https://localhost:8080/"
        },
        "id": "MYCLYZG_T4Oc",
        "outputId": "52cfc5e0-ee06-455e-caeb-970cd98e7b07"
      },
      "source": [
        "    # video_path = r\"C:\\Users\\Bob\\Videos\\Project_1.avi\"\n",
        "\n",
        "    size = (128,256)\n",
        "    fps = 10\n",
        "\n",
        "    video_path = get_video_youtube(\"https://www.youtube.com/watch?v=MNn9qKG2UFI&ab_channel=KarolMajek\")\n",
        "    image_path = image_extraction(video_path, fps, size[0], size[1])"
      ],
      "execution_count": 6,
      "outputs": [
        {
          "output_type": "stream",
          "text": [
            "9184.0\n",
            "360.0\n",
            "640.0\n",
            "30.0\n",
            "306.1333333333333\n",
            "/content/images/4K Road traffic video for object detection and tracking - free download now!\n",
            "13.095431089401245\n"
          ],
          "name": "stdout"
        }
      ]
    },
    {
      "cell_type": "code",
      "metadata": {
        "id": "6-z-p91xVmVN"
      },
      "source": [
        "def make_video(image_path, size, fps):\n",
        "\n",
        "    current_path = os.getcdef make_video(image_path, size, fps):\n",
        "\n",
        "    current_path = os.getcwd()\n",
        "\n",
        "    images = []\n",
        "    names = []\n",
        "\n",
        "    for image in os.listdir(image_path):\n",
        "        names.append(image)\n",
        "        img = imread(os.path.join(image_path, image))\n",
        "        images.append(img)\n",
        "\n",
        "    out = [x for _, x in sorted(zip(names,images))]\n",
        "\n",
        "    if not path.isdir(current_path + r\"/generatedvideos\"):\n",
        "        os.mkdir(current_path + r\"/generatedvideos\")\n",
        "\n",
        "    name = image_path.split(\"/\")\n",
        "    print(name[len(name)-1])\n",
        "\n",
        "    image_path = current_path + r\"/generatedvideos/\" + name[len(name)-1] + r\".avi\"\n",
        "\n",
        "    codex = VideoWriter_fourcc(*'MP4V')\n",
        "    writer = VideoWriter(image_path, codex, fps, (size[1],size[0]))\n",
        "\n",
        "    for image in out:\n",
        "        # cv2_imshow(image)\n",
        "        writer.write(image)\n",
        "    writer.release()"
      ],
      "execution_count": 8,
      "outputs": []
    },
    {
      "cell_type": "code",
      "metadata": {
        "id": "hvAJBbZGa8dk"
      },
      "source": [
        "make_video(image_path, size, fps)"
      ],
      "execution_count": 9,
      "outputs": []
    }
  ]
}