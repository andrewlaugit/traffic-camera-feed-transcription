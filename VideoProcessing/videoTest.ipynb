{
 "metadata": {
  "language_info": {
   "codemirror_mode": {
    "name": "ipython",
    "version": 3
   },
   "file_extension": ".py",
   "mimetype": "text/x-python",
   "name": "python",
   "nbconvert_exporter": "python",
   "pygments_lexer": "ipython3",
   "version": "3.9.0-final"
  },
  "orig_nbformat": 2,
  "kernelspec": {
   "name": "python3",
   "display_name": "Python 3",
   "language": "python"
  }
 },
 "nbformat": 4,
 "nbformat_minor": 2,
 "cells": [
  {
   "cell_type": "code",
   "execution_count": 73,
   "metadata": {},
   "outputs": [],
   "source": [
    "import requests\n",
    "import m3u8\n",
    "from urllib.parse import urlparse"
   ]
  },
  {
   "cell_type": "code",
   "execution_count": 74,
   "metadata": {},
   "outputs": [
    {
     "output_type": "stream",
     "name": "stdout",
     "text": [
      "['https://33-d6.divas.cloud/CHAN-4859/CHAN-4859_1.stream/media_w418794003_9073.ts', 'https://33-d6.divas.cloud/CHAN-4859/CHAN-4859_1.stream/media_w418794003_9074.ts', 'https://33-d6.divas.cloud/CHAN-4859/CHAN-4859_1.stream/media_w418794003_9075.ts']\n"
     ]
    }
   ],
   "source": [
    "url = \"https://33-d6.divas.cloud/CHAN-4859/CHAN-4859_1.stream/chunklist_w418794003.m3u8\"\n",
    "\n",
    "urltemp = url.split(\"/\")\n",
    "base_url = \"\"\n",
    "for i in range(len(urltemp)-1):\n",
    "    base_url = base_url + urltemp[i] + \"/\"\n",
    "\n",
    "# print(base_url)\n",
    "\n",
    "m3u8_segments = m3u8.load(\"https://33-d6.divas.cloud/CHAN-4859/CHAN-4859_1.stream/chunklist_w418794003.m3u8\")\n",
    "\n",
    "ts_segments = []\n",
    "\n",
    "for items in m3u8_segments.data['segments']:\n",
    "    ts_segments.append(base_url + items['uri'])\n",
    "\n",
    "print(ts_segments)"
   ]
  },
  {
   "cell_type": "code",
   "execution_count": 75,
   "metadata": {},
   "outputs": [
    {
     "output_type": "stream",
     "name": "stdout",
     "text": [
      "Recording video...\n",
      "10.0\n",
      "here\n",
      "here\n",
      "here\n",
      "done\n"
     ]
    }
   ],
   "source": [
    "\n",
    "print (\"Recording video...\")\n",
    "\n",
    "print(m3u8_segments.target_duration)\n",
    "\n",
    "filename = \"stream.mp4\"\n",
    "for url in ts_segments:\n",
    "    num=0\n",
    "    r1 = requests.get(url, stream=True)\n",
    "    if(r1.status_code == 200):\n",
    "        with open(filename,'wb') as f:\n",
    "            for chunk in r1.iter_content():\n",
    "                num += 1\n",
    "                f.write(chunk)\n",
    "                if num>5000:\n",
    "                    print('end')\n",
    "                    break\n",
    "            print(\"here\")\n",
    "\n",
    "    else:\n",
    "        print(\"Received unexpected status code {}\".format(r1.status_code))\n",
    "\n",
    "print(\"done\")"
   ]
  },
  {
   "cell_type": "code",
   "execution_count": null,
   "metadata": {},
   "outputs": [],
   "source": []
  }
 ]
}