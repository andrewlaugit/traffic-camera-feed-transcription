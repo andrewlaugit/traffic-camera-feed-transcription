{
 "metadata": {
  "language_info": {
   "codemirror_mode": {
    "name": "ipython",
    "version": 3
   },
   "file_extension": ".py",
   "mimetype": "text/x-python",
   "name": "python",
   "nbconvert_exporter": "python",
   "pygments_lexer": "ipython3",
   "version": "3.7.4-final"
  },
  "orig_nbformat": 2,
  "kernelspec": {
   "name": "python3",
   "display_name": "Python 3",
   "language": "python"
  }
 },
 "nbformat": 4,
 "nbformat_minor": 2,
 "cells": [
  {
   "cell_type": "code",
   "execution_count": 7,
   "metadata": {},
   "outputs": [],
   "source": [
    "import requests\n",
    "import m3u8\n",
    "from urllib.parse import urlparse\n",
    "import time\n",
    "import pathlib"
   ]
  },
  {
   "cell_type": "code",
   "execution_count": 3,
   "metadata": {},
   "outputs": [],
   "source": [
    "def get_segment(url):\n",
    "    m3u8_segments = m3u8.load(url)\n",
    "    segment = m3u8_segments.data[\"segments\"][0]\n",
    "    return segment"
   ]
  },
  {
   "cell_type": "code",
   "execution_count": 4,
   "metadata": {},
   "outputs": [],
   "source": [
    "def get_stream(url, target_length = 20):\n",
    "    urltemp = url.split(\"/\")\n",
    "    base_url = \"\"\n",
    "    for i in range(len(urltemp)-1):\n",
    "        base_url = base_url + urltemp[i] + \"/\"\n",
    "\n",
    "    length = 0\n",
    "\n",
    "    file_name_temp = urltemp[-2].split(\".\")\n",
    "\n",
    "    temp_url = \"\"\n",
    "\n",
    "    frame_count = 0\n",
    "    # model = load_saved_model()\n",
    "\n",
    "    current_time = time.strftime(\"%Y_%m_%d_%H-%M-%S\", time.localtime())\n",
    "\n",
    "    while(length<target_length):\n",
    "        segment = get_segment(url)\n",
    "        segment_url = base_url + segment[\"uri\"]\n",
    "\n",
    "        if(segment_url != temp_url):\n",
    "            chunk_count=0\n",
    "            request = requests.get(segment_url, stream=True)\n",
    "            if(request.status_code == 200):\n",
    "                # file_save_path = save_path.__str__() + \"_\" + str(i) + \".mp4\" \n",
    "                file_name = file_name_temp[0] + \"_\" + str(current_time)\n",
    "\n",
    "                save_path = Path.cwd() / \"app\" / \"static\" / file_name\n",
    "                file_save_path = save_path.__str__() + \".mp4\" \n",
    "                print(file_save_path)\n",
    "                with open(file_save_path,'ab') as file:\n",
    "                    for chunk in request.iter_content(chunk_size=1024):\n",
    "                        chunk_count += 1\n",
    "                        # print(chunk_count)\n",
    "                        file.write(chunk)\n",
    "                        if chunk_count>1024:\n",
    "                            print('File Too Big (Greater than 1MB per .ts segment. Error Suspected. Ending.')\n",
    "                            break\n",
    "                    print(\"here\")\n",
    "                file.close()\n",
    "                # image_path, frame_count = image_extraction_stream(file_save_path, duration=segment[\"duration\"])\n",
    "                # run_model_on_file(model, image_path)\n",
    "                # print(\"Frame Count =\", frame_count)\n",
    "                length = length + segment[\"duration\"]\n",
    "            else:\n",
    "                print(\"ERROR\", request.status_code)\n",
    "        temp_url = segment_url\n",
    "        \n",
    "        \n",
    "        print(\"Frame Count =\", frame_count)\n",
    "        \n",
    "    \n",
    "    # image_extraction(file_save_path)\n",
    "\n",
    "    # print(total_video_frames)"
   ]
  },
  {
   "cell_type": "code",
   "execution_count": 5,
   "metadata": {},
   "outputs": [
    {
     "output_type": "error",
     "ename": "NameError",
     "evalue": "name 'Path' is not defined",
     "traceback": [
      "\u001b[1;31m---------------------------------------------------------------------------\u001b[0m",
      "\u001b[1;31mNameError\u001b[0m                                 Traceback (most recent call last)",
      "\u001b[1;32m<ipython-input-5-18af04a69b36>\u001b[0m in \u001b[0;36m<module>\u001b[1;34m\u001b[0m\n\u001b[1;32m----> 1\u001b[1;33m \u001b[0mget_stream\u001b[0m\u001b[1;33m(\u001b[0m\u001b[1;34m\"https://wzmedia.dot.ca.gov/D5/1atStateParkDr.stream/chunklist_w967676566.m3u8\"\u001b[0m\u001b[1;33m,\u001b[0m \u001b[0mtarget_length\u001b[0m\u001b[1;33m=\u001b[0m\u001b[1;36m300\u001b[0m\u001b[1;33m)\u001b[0m\u001b[1;33m\u001b[0m\u001b[1;33m\u001b[0m\u001b[0m\n\u001b[0m",
      "\u001b[1;32m<ipython-input-4-d8d48c159423>\u001b[0m in \u001b[0;36mget_stream\u001b[1;34m(url, target_length)\u001b[0m\n\u001b[0;32m     27\u001b[0m                 \u001b[0mfile_name\u001b[0m \u001b[1;33m=\u001b[0m \u001b[0mfile_name_temp\u001b[0m\u001b[1;33m[\u001b[0m\u001b[1;36m0\u001b[0m\u001b[1;33m]\u001b[0m \u001b[1;33m+\u001b[0m \u001b[1;34m\"_\"\u001b[0m \u001b[1;33m+\u001b[0m \u001b[0mstr\u001b[0m\u001b[1;33m(\u001b[0m\u001b[0mcurrent_time\u001b[0m\u001b[1;33m)\u001b[0m\u001b[1;33m\u001b[0m\u001b[1;33m\u001b[0m\u001b[0m\n\u001b[0;32m     28\u001b[0m \u001b[1;33m\u001b[0m\u001b[0m\n\u001b[1;32m---> 29\u001b[1;33m                 \u001b[0msave_path\u001b[0m \u001b[1;33m=\u001b[0m \u001b[0mPath\u001b[0m\u001b[1;33m.\u001b[0m\u001b[0mcwd\u001b[0m\u001b[1;33m(\u001b[0m\u001b[1;33m)\u001b[0m \u001b[1;33m/\u001b[0m \u001b[1;34m\"app\"\u001b[0m \u001b[1;33m/\u001b[0m \u001b[1;34m\"static\"\u001b[0m \u001b[1;33m/\u001b[0m \u001b[0mfile_name\u001b[0m\u001b[1;33m\u001b[0m\u001b[1;33m\u001b[0m\u001b[0m\n\u001b[0m\u001b[0;32m     30\u001b[0m                 \u001b[0mfile_save_path\u001b[0m \u001b[1;33m=\u001b[0m \u001b[0msave_path\u001b[0m\u001b[1;33m.\u001b[0m\u001b[0m__str__\u001b[0m\u001b[1;33m(\u001b[0m\u001b[1;33m)\u001b[0m \u001b[1;33m+\u001b[0m \u001b[1;34m\".mp4\"\u001b[0m\u001b[1;33m\u001b[0m\u001b[1;33m\u001b[0m\u001b[0m\n\u001b[0;32m     31\u001b[0m                 \u001b[0mprint\u001b[0m\u001b[1;33m(\u001b[0m\u001b[0mfile_save_path\u001b[0m\u001b[1;33m)\u001b[0m\u001b[1;33m\u001b[0m\u001b[1;33m\u001b[0m\u001b[0m\n",
      "\u001b[1;31mNameError\u001b[0m: name 'Path' is not defined"
     ]
    }
   ],
   "source": [
    "get_stream(\"https://wzmedia.dot.ca.gov/D5/1atStateParkDr.stream/chunklist_w967676566.m3u8\", target_length=300)"
   ]
  },
  {
   "cell_type": "code",
   "execution_count": null,
   "metadata": {},
   "outputs": [],
   "source": []
  }
 ]
}